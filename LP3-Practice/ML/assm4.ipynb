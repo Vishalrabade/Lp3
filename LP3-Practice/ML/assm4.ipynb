{
 "cells": [
  {
   "cell_type": "code",
   "execution_count": 1,
   "id": "f28ce183",
   "metadata": {},
   "outputs": [],
   "source": [
    "import numpy as np\n",
    "import matplotlib.pyplot as plt"
   ]
  },
  {
   "cell_type": "code",
   "execution_count": 8,
   "id": "c649fd9b",
   "metadata": {},
   "outputs": [],
   "source": [
    "def f(x):\n",
    "    return x**2 + 6*x + 9\n",
    "\n",
    "def df(x):\n",
    "    return 2*x + 6"
   ]
  },
  {
   "cell_type": "code",
   "execution_count": 9,
   "id": "6f106653",
   "metadata": {},
   "outputs": [],
   "source": [
    "def gradient_descent(initial_x, learning_rate, num_iterations):\n",
    "   x = initial_x\n",
    "   x_history = [x]\n",
    "  \n",
    "   for i in range(num_iterations):\n",
    "       gradient = df(x)\n",
    "       x = x - learning_rate * gradient\n",
    "       x_history.append(x)\n",
    "      \n",
    "   return x, x_history"
   ]
  },
  {
   "cell_type": "code",
   "execution_count": 10,
   "id": "a45f61c4",
   "metadata": {},
   "outputs": [
    {
     "name": "stdout",
     "output_type": "stream",
     "text": [
      "Local minimum: -3.00\n"
     ]
    }
   ],
   "source": [
    "initial_x = 0\n",
    "learning_rate = 0.1\n",
    "num_iterations = 50\n",
    "\n",
    "x, x_history = gradient_descent(initial_x, learning_rate, num_iterations)\n",
    "\n",
    "print(\"Local minimum: {:.2f}\".format(x))"
   ]
  },
  {
   "cell_type": "code",
   "execution_count": 11,
   "id": "423b049d",
   "metadata": {},
   "outputs": [
    {
     "data": {
      "image/png": "[encoded data removed]",
      "text/plain": [
       "<Figure size 432x288 with 1 Axes>"
      ]
     },
     "metadata": {
      "needs_background": "light"
     },
     "output_type": "display_data"
    }
   ],
   "source": [
    "x_vals = np.linspace(-1, 5, 100)\n",
    "\n",
    "# Plot the function f(x)\n",
    "plt.plot(x_vals, f(x_vals))\n",
    "\n",
    "# Plot the values of x at each iteration\n",
    "plt.plot(x_history, f(np.array(x_history)), 'rx')\n",
    "\n",
    "# Label the axes and add a title\n",
    "plt.xlabel('x')\n",
    "plt.ylabel('f(x)')\n",
    "plt.title('Gradient Descent')\n",
    "\n",
    "# Show the plot\n",
    "plt.show()"
   ]
  },
  {
   "cell_type": "code",
   "execution_count": null,
   "id": "3fe6e001",
   "metadata": {},
   "outputs": [],
   "source": []
  }
 ],
 "metadata": {
  "kernelspec": {
   "display_name": "Python 3 (ipykernel)",
   "language": "python",
   "name": "python3"
  },
  "language_info": {
   "codemirror_mode": {
    "name": "ipython",
    "version": 3
   },
   "file_extension": ".py",
   "mimetype": "text/x-python",
   "name": "python",
   "nbconvert_exporter": "python",
   "pygments_lexer": "ipython3",
   "version": "3.9.7"
  }
 },
 "nbformat": 4,
 "nbformat_minor": 5
}
